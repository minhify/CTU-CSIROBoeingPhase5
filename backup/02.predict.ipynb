{
 "cells": [
  {
   "cell_type": "code",
   "execution_count": null,
   "id": "1a452ff0-7c2f-4fa7-abf4-f7c8b09a9932",
   "metadata": {
    "tags": []
   },
   "outputs": [],
   "source": [
    "%%time\n",
    "%matplotlib inline\n",
    "from new_import import *"
   ]
  },
  {
   "cell_type": "code",
   "execution_count": null,
   "id": "219d4303-b606-45e1-a3a7-0b52e3cfe279",
   "metadata": {
    "tags": []
   },
   "outputs": [],
   "source": [
    "%%time\n",
    "# Dask gateway\n",
    "cluster, client = notebook_utils.initialize_dask(use_gateway=True, workers=(1,4))\n",
    "dc = datacube.Datacube()\n",
    "\n",
    "# Configure s3 access\n",
    "configure_s3_access(aws_unsigned=False, requester_pays=True, client=client)\n",
    "\n",
    "client"
   ]
  },
  {
   "cell_type": "code",
   "execution_count": null,
   "id": "56a9e23b-435e-4235-b09d-196662813f5a",
   "metadata": {
    "tags": []
   },
   "outputs": [],
   "source": [
    "## cấu hình thời gian lấy ảnh và tọa độ\n",
    "date_range = ('2022-09-01', '2023-10-01')\n",
    "longtitude_range = (105.86575, 105.94120)\n",
    "latitude_range = (9.65070, 9.69850)"
   ]
  },
  {
   "cell_type": "code",
   "execution_count": null,
   "id": "606d23a3-7db6-4eb2-9d31-1e31ee3aaef7",
   "metadata": {
    "tags": []
   },
   "outputs": [],
   "source": [
    "## truy vấn ảnh vệ tinh sen2\n",
    "data = load_data(dc, date_range, longtitude_range, latitude_range)\n",
    "notebook_utils.heading(notebook_utils.xarray_object_size(data))\n",
    "display(data)"
   ]
  },
  {
   "cell_type": "code",
   "execution_count": null,
   "id": "54e04079-2c12-4de1-8541-0579fbfad4a1",
   "metadata": {
    "tags": []
   },
   "outputs": [],
   "source": [
    "%%time\n",
    "# Tiến hành loại bỏ các vị trí bị mây ảnh hưởng\n",
    "result = mask_clean(data)\n",
    "progress(result)"
   ]
  },
  {
   "cell_type": "code",
   "execution_count": null,
   "id": "565f467b-3002-4d24-a300-d34ce548f7e3",
   "metadata": {
    "tags": []
   },
   "outputs": [],
   "source": [
    "# Tiến hành tính toán NDVI\n",
    "ds1 = calculate_indices(result, index='NDVI', satellite_mission='s2')\n",
    "ndvi = ds1[\"NDVI\"]\n",
    "display(ndvi)"
   ]
  },
  {
   "cell_type": "code",
   "execution_count": null,
   "id": "f3930d43-c159-49bf-8260-68b14681729d",
   "metadata": {
    "tags": []
   },
   "outputs": [],
   "source": [
    "## ảnh ndvi chưa fill nan\n",
    "plt.imshow(ndvi.isel(time=50))"
   ]
  },
  {
   "cell_type": "code",
   "execution_count": null,
   "id": "5372d50c-7b05-475e-bdce-ed36a8ea794d",
   "metadata": {
    "tags": []
   },
   "outputs": [],
   "source": [
    "# đặt thời gian các mùa\n",
    "time_split = [slice('2022-09-01', '2023-01-01'), \n",
    "               slice('2023-01-01', '2023-05-01'),\n",
    "               slice('2023-05-01', '2023-07-01'),\n",
    "               slice('2023-07-01', '2023-10-01')]\n",
    "\n",
    "# fill nan\n",
    "fill_nan_ndvi = fill_nan(ndvi, time_split)\n",
    "\n",
    "## ảnh ndivi đã fill nan\n",
    "plt.imshow(fill_nan_ndvi.isel(time=50))"
   ]
  },
  {
   "cell_type": "code",
   "execution_count": null,
   "id": "4e11434c-24ff-48f4-8611-b3baeb300de3",
   "metadata": {
    "tags": []
   },
   "outputs": [],
   "source": [
    "%%time\n",
    "## tính ndvi theo tháng\n",
    "average_ndvi = fill_nan_ndvi.resample(time='1M').mean().persist()\n",
    "progress(average_ndvi)"
   ]
  },
  {
   "cell_type": "code",
   "execution_count": null,
   "id": "34e7fd9c-3a16-4c82-b210-2afc4a84772e",
   "metadata": {
    "tags": []
   },
   "outputs": [],
   "source": [
    "# compute average_ndvi\n",
    "average_ndvi = average_ndvi.compute()\n",
    "\n",
    "## cấu hình shapefile ranh giới thuận hòa và vh vv file\n",
    "thuanhoa_path = \"ThuanHoa/region/ST_ThuanHoa_Boundaryofficially.shp\"\n",
    "name_vh = \"ThuanHoa/ThuanHoa_VH.tif\"\n",
    "name_vv = \"ThuanHoa/ThuanHoa_VV.tif\"\n",
    "\n",
    "# load dữ liệu sen1\n",
    "dsvh, dsvv = load_sen1(name_vh, name_vv)"
   ]
  },
  {
   "cell_type": "code",
   "execution_count": null,
   "id": "5d29d5cf-31fd-4263-8ae4-2eb9690f739e",
   "metadata": {
    "tags": []
   },
   "outputs": [],
   "source": [
    "# load model RF\n",
    "loaded_model = joblib.load(os.path.join(\"model_train\", \"model.joblib\"))\n",
    "\n",
    "# dự đoán\n",
    "data_array = predict(loaded_model, data.rio.crs, average_ndvi, dsvh, dsvv)"
   ]
  },
  {
   "cell_type": "code",
   "execution_count": null,
   "id": "1e17f18d-0878-43d1-acf6-54dfc9f1a0db",
   "metadata": {
    "tags": []
   },
   "outputs": [],
   "source": [
    "# cấu hình màu cho các loại đất\n",
    "colors = [\n",
    "    \"#abcee9\",\n",
    "    \"#ffef44\",\n",
    "    \"#c4ff9e\",\n",
    "    \"#ffd6a8\",\n",
    "    \"#93ddda\",\n",
    "    \"#1aeef7\",\n",
    "    \"#ffa7f2\",\n",
    "    \"#33ee33\"\n",
    "]\n",
    "labels = [\n",
    "    \"Lúa tôm\",\n",
    "    \"Lúa\",\n",
    "    \"CHN\",\n",
    "    \"CLN\",\n",
    "    \"TS\",\n",
    "    \"Sông\",\n",
    "    \"Đất xây dựng\",\n",
    "    \"Rừng\"\n",
    "]"
   ]
  },
  {
   "cell_type": "code",
   "execution_count": null,
   "id": "b6e705b1-f1e4-4c94-90aa-4e2ecd56290f",
   "metadata": {
    "tags": []
   },
   "outputs": [],
   "source": [
    "# hiển thị phân loại sử dụng đất\n",
    "cmap = ListedColormap(colors)\n",
    "img = data_array.plot(cmap=cmap, add_colorbar=False)\n",
    "cbar = plt.colorbar(img)\n",
    "cbar.ax.set_yticklabels(labels)\n",
    "plt.title(\"Phân loại sử dụng đất\")\n",
    "plt.axis('off')\n",
    "plt.show()"
   ]
  },
  {
   "cell_type": "code",
   "execution_count": null,
   "id": "caa6893e-4167-4d85-8c5e-d03cdb55f71f",
   "metadata": {
    "tags": []
   },
   "outputs": [],
   "source": [
    "# cắt theo ranh giới xã thuận hòa\n",
    "region_result = cut_according_shp(thuanhoa_path, average_ndvi, data_array)"
   ]
  },
  {
   "cell_type": "code",
   "execution_count": null,
   "id": "177a672f-dc68-4987-a3c6-2123dff257c0",
   "metadata": {
    "tags": []
   },
   "outputs": [],
   "source": [
    "# hiển thị kết quả phân loại sử dụng đất\n",
    "colorval = list(range(len(colors)))\n",
    "options = {\n",
    "    'title': 'Phân loại sử dụng đất',\n",
    "    'cmap': colors,\n",
    "    'clim': (0, 8),\n",
    "    'aspect': 'equal',\n",
    "    'colorbar_opts': {\n",
    "        'major_label_overrides': dict(zip(colorval, labels)),\n",
    "        'major_label_text_align': 'left',\n",
    "        'ticker': FixedTicker(ticks=colorval),\n",
    "    },\n",
    "}\n",
    "                                      \n",
    "region_result.hvplot(\n",
    "    rasterize = True,                        # Use Datashader, particularly useful for dask arrays\n",
    "    aggregator = reductions.mode(),          # Datashader selects mode value, requires 'hv.Image'\n",
    ").options(opts.Image(**options))"
   ]
  },
  {
   "cell_type": "code",
   "execution_count": null,
   "id": "43580ab8-c637-4e79-b842-0131f970bfac",
   "metadata": {
    "tags": []
   },
   "outputs": [],
   "source": [
    "# Lưu lại kết quả\n",
    "region_result.rio.to_raster(\"KetQuaPhanLoaiDat.tif\")"
   ]
  },
  {
   "cell_type": "code",
   "execution_count": null,
   "id": "a23a5bd1-1a8c-448d-b239-8ba2d8e104f2",
   "metadata": {},
   "outputs": [],
   "source": [
    "# đóng client, cluster\n",
    "client.close()\n",
    "cluster.close()"
   ]
  },
  {
   "cell_type": "code",
   "execution_count": null,
   "id": "49db198b-588e-403e-8f50-6ffb36b5d3b2",
   "metadata": {},
   "outputs": [],
   "source": []
  }
 ],
 "metadata": {
  "kernelspec": {
   "display_name": "Python 3 (ipykernel)",
   "language": "python",
   "name": "python3"
  },
  "language_info": {
   "codemirror_mode": {
    "name": "ipython",
    "version": 3
   },
   "file_extension": ".py",
   "mimetype": "text/x-python",
   "name": "python",
   "nbconvert_exporter": "python",
   "pygments_lexer": "ipython3",
   "version": "3.10.12"
  }
 },
 "nbformat": 4,
 "nbformat_minor": 5
}
