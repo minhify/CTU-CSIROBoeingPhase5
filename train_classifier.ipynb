{
 "cells": [
  {
   "cell_type": "code",
   "execution_count": null,
   "id": "a3f1d6a5-5a50-4d2f-be15-cd8256c562ad",
   "metadata": {
    "tags": []
   },
   "outputs": [],
   "source": [
    "%%time\n",
    "%matplotlib inline\n",
    "import importlib\n",
    "import new_import  \n",
    "importlib.reload(new_import)\n",
    "from new_import import *"
   ]
  },
  {
   "cell_type": "code",
   "execution_count": null,
   "id": "495795f2-13fe-46b6-b653-cdea16f5e78f",
   "metadata": {},
   "outputs": [],
   "source": [
    "cluster, client = notebook_utils.initialize_dask(use_gateway=True, workers=(1,10))\n",
    "# Khai báo 1 Datacube là dc\n",
    "dc = datacube.Datacube()\n",
    "client"
   ]
  },
  {
   "cell_type": "code",
   "execution_count": null,
   "id": "877761be-e1c9-4bf5-91f3-093431c23d7b",
   "metadata": {},
   "outputs": [],
   "source": [
    "date_range = ('2022-09-01', '2023-10-01')\n",
    "longtitude_range = (105.5, 106.4)\n",
    "latitude_range = (9.2, 10.0) \n",
    "\n",
    "coordinates = (longtitude_range, latitude_range)"
   ]
  },
  {
   "cell_type": "code",
   "execution_count": null,
   "id": "25de207a-9441-4f7d-bb7a-490c29db0ce1",
   "metadata": {},
   "outputs": [],
   "source": [
    "dsvh, dsvv = load_data_sen1(dc, date_range, coordinates)"
   ]
  },
  {
   "cell_type": "code",
   "execution_count": null,
   "id": "6e705641-e810-428f-aa8d-3db5a2138e48",
   "metadata": {},
   "outputs": [],
   "source": [
    "average_vv = calculate_average(dsvv, time_pattern='1M')\n",
    "progress(average_vv)"
   ]
  },
  {
   "cell_type": "code",
   "execution_count": null,
   "id": "5911eea7-bf2f-4ff1-858d-7fb6075df927",
   "metadata": {},
   "outputs": [],
   "source": [
    "average_vv.compute()"
   ]
  },
  {
   "cell_type": "code",
   "execution_count": null,
   "id": "71b8be57-352a-4165-96e0-c1e86acd13aa",
   "metadata": {
    "tags": []
   },
   "outputs": [],
   "source": [
    "coord_time = np.arange(13)\n",
    "coord_x = average_vv.coords['x']\n",
    "coord_y = average_vv.coords['y']"
   ]
  },
  {
   "cell_type": "code",
   "execution_count": null,
   "id": "886e9251-ef9c-4268-8e57-e15e78fe0e4f",
   "metadata": {
    "tags": []
   },
   "outputs": [],
   "source": [
    "full_dataset = np.load('input/saved_datasets/gb_full_dataset_filled.npz')\n",
    "ndvi = full_dataset['ndvi']\n",
    "vh = full_dataset['vh']\n",
    "vv = full_dataset['vv']"
   ]
  },
  {
   "cell_type": "code",
   "execution_count": null,
   "id": "47265ca7-1b86-4c0c-ac97-ef54c06ab22a",
   "metadata": {
    "tags": []
   },
   "outputs": [],
   "source": [
    "ndvi_xarray = xr.DataArray(ndvi, dims=[\"time\", \"y\", \"x\"], coords={'time': coord_time, 'x': coord_x, 'y': coord_y})\n",
    "vh_xarray = xr.DataArray(vh, dims=[\"time\", \"y\", \"x\"], coords={'time': coord_time, 'x': coord_x, 'y': coord_y})\n",
    "vv_xarray = xr.DataArray(vv, dims=[\"time\", \"y\", \"x\"], coords={'time': coord_time, 'x': coord_x, 'y': coord_y})"
   ]
  },
  {
   "cell_type": "code",
   "execution_count": null,
   "id": "37be1ce5-e146-4082-beb5-3789583ab9b0",
   "metadata": {
    "tags": []
   },
   "outputs": [],
   "source": [
    "train_path = \"input/train_points/1130/ST_1130_points.shp\"  \n",
    "\n",
    "# cấu hình nhãn dữ liệu \n",
    "label_mapping = {\n",
    "    \"Lua tom\": \"0\",\n",
    "    \"Lua\": \"1\",\n",
    "    \"CHN\": \"2\",\n",
    "    \"CLN\": \"3\",\n",
    "    \"TS\": \"4\",\n",
    "    \"Song\": \"5\",\n",
    "    \"Dat xay dung\": \"6\",\n",
    "    \"Rung\": \"7\",\n",
    "}\n",
    "\n",
    "labels = load_data_geo(train_path)\n",
    "labels.head()"
   ]
  },
  {
   "cell_type": "code",
   "execution_count": null,
   "id": "4286be82-5295-4b4a-bc78-a88d75870871",
   "metadata": {
    "tags": []
   },
   "outputs": [],
   "source": [
    "# Extract data points and create the dataset\n",
    "data_points = extract_data_point(labels, ndvi_xarray, vh_xarray, vv_xarray)\n",
    "X_train, y_train = create_dataset(data_points)"
   ]
  },
  {
   "cell_type": "code",
   "execution_count": null,
   "id": "1eeadd4f-dd7b-40d7-89bc-acc12d7fec1c",
   "metadata": {
    "tags": []
   },
   "outputs": [],
   "source": [
    " X_train, X_test, y_train, y_test = train_test_split(X_train, y_train, test_size=0.2, random_state=42)"
   ]
  },
  {
   "cell_type": "code",
   "execution_count": null,
   "id": "65c26d1f-b3c0-4927-a062-d522a9d9342a",
   "metadata": {
    "tags": []
   },
   "outputs": [],
   "source": [
    "%%time\n",
    "best_model, best_params, best_score, cv_results = find_best_classifier(X_train, \n",
    "                                                                       y_train, classifiers['naive_bayes'], \n",
    "                                                                       param_grids_classifier['naive_bayes'])\n",
    "\n",
    "# Print best parameters, best result, and MSE over splits\n",
    "print(f\"Best parameters: {best_params}\")\n",
    "print(f\"Best result : {best_score}\")"
   ]
  },
  {
   "cell_type": "code",
   "execution_count": null,
   "id": "c0d35128-4ed7-4eac-8401-d7acce3ba6d4",
   "metadata": {
    "tags": []
   },
   "outputs": [],
   "source": [
    "y_pred = best_model.predict(X_test)\n",
    "\n",
    "# Calculate Mean Squared Error\n",
    "acc = accuracy_score(y_test, y_pred)\n",
    "print(f\"Accuracy: {acc}\")"
   ]
  },
  {
   "cell_type": "code",
   "execution_count": null,
   "id": "480edf2c-2d15-45d1-8c46-068252f30847",
   "metadata": {
    "tags": []
   },
   "outputs": [],
   "source": [
    "folder_path = 'output/classifiers/'\n",
    "file_path = os.path.join(folder_path, 'nb_classify.pkl')\n",
    "joblib.dump(best_model, file_path)"
   ]
  },
  {
   "cell_type": "code",
   "execution_count": null,
   "id": "e93c43c2-1f65-45fe-8351-187a9c623077",
   "metadata": {},
   "outputs": [],
   "source": [
    "client.close()\n",
    "cluster.close()"
   ]
  },
  {
   "cell_type": "code",
   "execution_count": null,
   "id": "59f6f76e-ce52-4b23-ac3a-da87572a4797",
   "metadata": {},
   "outputs": [],
   "source": []
  },
  {
   "cell_type": "code",
   "execution_count": null,
   "id": "07af2386-e45b-4238-b088-aa7c71e0c8d9",
   "metadata": {},
   "outputs": [],
   "source": []
  },
  {
   "cell_type": "code",
   "execution_count": null,
   "id": "173cb7b8-2d44-49e6-984a-4eb67c3a5a10",
   "metadata": {},
   "outputs": [],
   "source": []
  },
  {
   "cell_type": "code",
   "execution_count": null,
   "id": "20ad971b-7341-44bf-b02c-03f9b0bec58e",
   "metadata": {},
   "outputs": [],
   "source": []
  },
  {
   "cell_type": "code",
   "execution_count": null,
   "id": "e03a79e2-63e4-45dc-bb2d-b393752b019a",
   "metadata": {},
   "outputs": [],
   "source": []
  },
  {
   "cell_type": "code",
   "execution_count": null,
   "id": "71afcf56-40ff-4ee0-9125-532108dbaf12",
   "metadata": {},
   "outputs": [],
   "source": []
  },
  {
   "cell_type": "code",
   "execution_count": null,
   "id": "aba8f9f0-85b1-4f71-97e0-1dc6ef80b85a",
   "metadata": {},
   "outputs": [],
   "source": []
  },
  {
   "cell_type": "code",
   "execution_count": null,
   "id": "0453f18d-ecdc-4ba0-90a7-83f0b00e7874",
   "metadata": {},
   "outputs": [],
   "source": []
  },
  {
   "cell_type": "code",
   "execution_count": null,
   "id": "25f8fc6d-ca33-45f6-945c-baacc976e7f2",
   "metadata": {},
   "outputs": [],
   "source": []
  }
 ],
 "metadata": {
  "kernelspec": {
   "display_name": "Python 3 (ipykernel)",
   "language": "python",
   "name": "python3"
  },
  "language_info": {
   "codemirror_mode": {
    "name": "ipython",
    "version": 3
   },
   "file_extension": ".py",
   "mimetype": "text/x-python",
   "name": "python",
   "nbconvert_exporter": "python",
   "pygments_lexer": "ipython3",
   "version": "3.10.12"
  }
 },
 "nbformat": 4,
 "nbformat_minor": 5
}
